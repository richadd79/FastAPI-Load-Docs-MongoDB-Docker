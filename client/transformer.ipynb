{
 "cells": [
  {
   "cell_type": "code",
   "execution_count": 1,
   "metadata": {},
   "outputs": [],
   "source": [
    "import pandas as pd"
   ]
  },
  {
   "cell_type": "code",
   "execution_count": 19,
   "metadata": {},
   "outputs": [
    {
     "data": {
      "text/html": [
       "<div>\n",
       "<style scoped>\n",
       "    .dataframe tbody tr th:only-of-type {\n",
       "        vertical-align: middle;\n",
       "    }\n",
       "\n",
       "    .dataframe tbody tr th {\n",
       "        vertical-align: top;\n",
       "    }\n",
       "\n",
       "    .dataframe thead th {\n",
       "        text-align: right;\n",
       "    }\n",
       "</style>\n",
       "<table border=\"1\" class=\"dataframe\">\n",
       "  <thead>\n",
       "    <tr style=\"text-align: right;\">\n",
       "      <th></th>\n",
       "      <th>timestamp</th>\n",
       "      <th>order_id</th>\n",
       "      <th>category_id</th>\n",
       "      <th>brand</th>\n",
       "      <th>price</th>\n",
       "      <th>user_id</th>\n",
       "      <th>category</th>\n",
       "      <th>product</th>\n",
       "    </tr>\n",
       "  </thead>\n",
       "  <tbody>\n",
       "    <tr>\n",
       "      <th>0</th>\n",
       "      <td>2020-04-24 11:50:39</td>\n",
       "      <td>2294359932054536986</td>\n",
       "      <td>2268105426648170900</td>\n",
       "      <td>samsung</td>\n",
       "      <td>162.01</td>\n",
       "      <td>1515915625441993984</td>\n",
       "      <td>electronics</td>\n",
       "      <td>tablet</td>\n",
       "    </tr>\n",
       "    <tr>\n",
       "      <th>1</th>\n",
       "      <td>2020-04-24 11:50:39</td>\n",
       "      <td>2294359932054536986</td>\n",
       "      <td>2268105426648170900</td>\n",
       "      <td>samsung</td>\n",
       "      <td>162.01</td>\n",
       "      <td>1515915625441993984</td>\n",
       "      <td>electronics</td>\n",
       "      <td>tablet</td>\n",
       "    </tr>\n",
       "    <tr>\n",
       "      <th>2</th>\n",
       "      <td>2020-04-24 14:37:43</td>\n",
       "      <td>2294444024058086220</td>\n",
       "      <td>2268105430162997728</td>\n",
       "      <td>huawei</td>\n",
       "      <td>77.52</td>\n",
       "      <td>1515915625447879434</td>\n",
       "      <td>electronics</td>\n",
       "      <td>headphone</td>\n",
       "    </tr>\n",
       "    <tr>\n",
       "      <th>3</th>\n",
       "      <td>2020-04-24 14:37:43</td>\n",
       "      <td>2294444024058086220</td>\n",
       "      <td>2268105430162997728</td>\n",
       "      <td>huawei</td>\n",
       "      <td>77.52</td>\n",
       "      <td>1515915625447879434</td>\n",
       "      <td>electronics</td>\n",
       "      <td>headphone</td>\n",
       "    </tr>\n",
       "    <tr>\n",
       "      <th>4</th>\n",
       "      <td>2020-04-26 08:45:57</td>\n",
       "      <td>2295716521449619559</td>\n",
       "      <td>2268105442636858090</td>\n",
       "      <td>maestro</td>\n",
       "      <td>39.33</td>\n",
       "      <td>1515915625450382722</td>\n",
       "      <td>furniture</td>\n",
       "      <td>table</td>\n",
       "    </tr>\n",
       "  </tbody>\n",
       "</table>\n",
       "</div>"
      ],
      "text/plain": [
       "             timestamp             order_id          category_id    brand  \\\n",
       "0  2020-04-24 11:50:39  2294359932054536986  2268105426648170900  samsung   \n",
       "1  2020-04-24 11:50:39  2294359932054536986  2268105426648170900  samsung   \n",
       "2  2020-04-24 14:37:43  2294444024058086220  2268105430162997728   huawei   \n",
       "3  2020-04-24 14:37:43  2294444024058086220  2268105430162997728   huawei   \n",
       "4  2020-04-26 08:45:57  2295716521449619559  2268105442636858090  maestro   \n",
       "\n",
       "    price              user_id     category    product  \n",
       "0  162.01  1515915625441993984  electronics     tablet  \n",
       "1  162.01  1515915625441993984  electronics     tablet  \n",
       "2   77.52  1515915625447879434  electronics  headphone  \n",
       "3   77.52  1515915625447879434  electronics  headphone  \n",
       "4   39.33  1515915625450382722    furniture      table  "
      ]
     },
     "execution_count": 19,
     "metadata": {},
     "output_type": "execute_result"
    }
   ],
   "source": [
    "df = pd.read_csv('kz_small.csv', delimiter='|')\n",
    "df.head()"
   ]
  },
  {
   "cell_type": "code",
   "execution_count": 22,
   "metadata": {},
   "outputs": [],
   "source": [
    "#\n",
    "df.to_json('kz_output.txt', orient='records', lines=True)"
   ]
  }
 ],
 "metadata": {
  "kernelspec": {
   "display_name": "base",
   "language": "python",
   "name": "python3"
  },
  "language_info": {
   "codemirror_mode": {
    "name": "ipython",
    "version": 3
   },
   "file_extension": ".py",
   "mimetype": "text/x-python",
   "name": "python",
   "nbconvert_exporter": "python",
   "pygments_lexer": "ipython3",
   "version": "3.8.5"
  },
  "orig_nbformat": 4
 },
 "nbformat": 4,
 "nbformat_minor": 2
}
